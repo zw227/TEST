{
 "cells": [
  {
   "cell_type": "markdown",
   "id": "95878668-1dca-4246-8b2c-2d3c1000c5d2",
   "metadata": {},
   "source": [
    "## Before training the network"
   ]
  },
  {
   "cell_type": "markdown",
   "id": "3bc3073c-0eb4-41b1-a25d-b5d2d645ceba",
   "metadata": {},
   "source": [
    "##### 1. Download the QM9 data at: https://figshare.com/collections/Quantum_chemistry_structures_and_properties_of_134_kilo_molecules/978904\n",
    "##### 2. First, you will have to run \"file-parser_v3.py\". Before you do, change the directory in the code to the directory where you saved the dataset\n",
    "##### 3. Run \"read_hdf5_v3.py\". This takes a bit and creates a file called \"qm9-own-features.h5\"\n",
    "##### 4. Run \"read_qm9_adjacency_v2.py\".\n",
    "##### 5. Run \"custom_graph_network.py\". Remember to change the directory to the directory where you want to work"
   ]
  },
  {
   "cell_type": "markdown",
   "id": "b0c98907-c5ac-4afb-8823-819f8f146b03",
   "metadata": {},
   "source": [
    "## After training the network"
   ]
  },
  {
   "cell_type": "markdown",
   "id": "1271a2e0-976e-446a-bb8a-568c69d972a5",
   "metadata": {},
   "source": [
    "##### 1. After training, go to the ECCConv file in the Python 3.9 folder at ./local/lib/python3.9/site-packages/spektral/layers/convolutional.\n",
    "##### 2. At the return statement in line 187 add messages to the return statement. That is \\\"return output\\\" -> \\\"return output, messages\\\"\n",
    "##### 3. Now go to the custom_graph_network.py file add the variable \\\"msg\\\" to each conv call. That is \\\"x = self.conv1([x,a,e])\\\" -> \\\"x, msg = self.conv1([x,a,e])\\\" and so on.\n",
    "##### 4. Then, in the custom_graph_network.py uncomment \\\"self.msg_list.append(self.extract_msg(msg,e))\\\" after every conv call you want the message from.\n",
    "##### 5. Next, run the code in the sequence shown below. This will yield a numpy array with the message data."
   ]
  },
  {
   "cell_type": "markdown",
   "id": "06a6e6f5-26e0-48f8-b846-e40d02333512",
   "metadata": {},
   "source": [
    "### Extracting the messages"
   ]
  },
  {
   "cell_type": "code",
   "execution_count": null,
   "id": "73af97be-dde1-4bdb-a9d3-ac276a99aa61",
   "metadata": {},
   "outputs": [],
   "source": [
    "from custom_qm9_dataset_v2 import QM9, Net\n",
    "from spektral.data import DisjointLoader\n",
    "import numpy as np\n",
    "import tensorflow as tf\n",
    "import matplotlib.pyplot as plt\n",
    "import math"
   ]
  },
  {
   "cell_type": "code",
   "execution_count": null,
   "id": "4ffdf471-ad7d-49f2-a5aa-e3627a2c18ef",
   "metadata": {},
   "outputs": [],
   "source": [
    "# Import the QM9 function from custom_graph_network.py\n",
    "\n",
    "dataset = QM9(raw_h5file='qm9-raw.h5',\n",
    "                      processed_h5file='qm9-own-features.h5',\n",
    "                      dataset='train', \n",
    "                      test_fraction = 0.9,\n",
    "                      col=10) \n",
    "\n",
    "# Load the data using spektral's DisjointLoader\n",
    "loader = DisjointLoader(dataset,batch_size=1)\n",
    "\n",
    "# Get a batch of data from the disjont loader\n",
    "batch = loader.__next__()\n",
    "\n",
    "# This gets the inputs and the targets from the loaded batch\n",
    "inputs, target = batch"
   ]
  },
  {
   "cell_type": "code",
   "execution_count": null,
   "id": "a5b44a30-c13e-4044-8afc-a82e673c27a7",
   "metadata": {},
   "outputs": [],
   "source": [
    "# Load the trained model weights from where you stored them\n",
    "model = Net()\n",
    "model.load_weights(\"/home/sebastian/thesisnn/models/my_model_init_zero\")"
   ]
  },
  {
   "cell_type": "code",
   "execution_count": null,
   "id": "8e1ee182-320a-499c-aab6-461e43b60dd8",
   "metadata": {},
   "outputs": [],
   "source": [
    "# Loop over the data set to get the messages appened to the message list\n",
    "# This passes data through the trained net one at a time. Take a bit!\n",
    "\n",
    "for batch in loader:\n",
    "   inp, _ = batch\n",
    "   _ = model(inp)"
   ]
  },
  {
   "cell_type": "code",
   "execution_count": null,
   "id": "ef6f4522-d056-4347-85f9-fdf14d89cb66",
   "metadata": {},
   "outputs": [],
   "source": [
    "# Save the messages to a numpy array\n",
    "msg_data = np.array(model.msg_list)\n",
    "np.save('msg_data')"
   ]
  },
  {
   "cell_type": "code",
   "execution_count": null,
   "id": "1b619f48-1551-4734-8e77-52352df94cb8",
   "metadata": {},
   "outputs": [],
   "source": [
    "# Extracting messages and corresponding inputs from each layer only\n",
    "# This only works if you uncommented \"self.msg_list.append(self.extract_msg(msg,e))\" after EVERY convolutional layer.\n",
    "ecc1_data = msg_data[0::3]\n",
    "np.save('ecc1_data', ecc1_data)\n",
    "ecc2_data = msg_data[1::3]\n",
    "np.save('ecc2_data', ecc2_data)\n",
    "ecc3_data = msg_data[2::3]\n",
    "np.save('ecc3_data', ecc3_data)"
   ]
  },
  {
   "cell_type": "markdown",
   "id": "5e27c6ea-3b9c-4f8b-be7e-d30c826347b1",
   "metadata": {},
   "source": [
    "### PySR"
   ]
  },
  {
   "cell_type": "markdown",
   "id": "2eb05cf2-d065-4719-9557-f7544afc70d9",
   "metadata": {
    "tags": []
   },
   "source": [
    "##### 1. Go to the \"PySR_discovery.py\" file\n",
    "##### 2. Make sure to specify the correct ECCConv-message you want to approximate.\n",
    "##### 3. Run \"PySR_discovery.py\"\n",
    "##### 4. Get the best equation"
   ]
  },
  {
   "cell_type": "code",
   "execution_count": null,
   "id": "5d842f4f-85ec-4a40-af1e-745aa68d31a8",
   "metadata": {},
   "outputs": [],
   "source": [
    "# This is a sample PySR code\n",
    "\n",
    "msg_data = np.load('ecc3_data.npy')\n",
    "\n",
    "y = msg_data[:,0] #Assigning the messages to y\n",
    "X = msg_data[:,1:] #Assigning the inputs to X\n",
    "    \n",
    "model = PySRRegressor(\n",
    "niterations=5,\n",
    "binary_operators=[\"+\", \"-\", \"*\", \"div\"],\n",
    "unary_operators=[\n",
    "    \"exp\",\n",
    "    \"cos\",\n",
    "    \"sin\",\n",
    "    \"xsq(x) = x^2\",\n",
    "    \"inv(x) = 1/x\",  # Custom operator (julia syntax)\n",
    "],\n",
    "model_selection=\"best\",\n",
    "loss=\"loss(x, y) = (x - y)^2\",  # Custom loss function (julia syntax)\n",
    ")\n",
    "model.fit(X, y)\n"
   ]
  }
 ],
 "metadata": {
  "kernelspec": {
   "display_name": "Python 3 (ipykernel)",
   "language": "python",
   "name": "python3"
  },
  "language_info": {
   "codemirror_mode": {
    "name": "ipython",
    "version": 3
   },
   "file_extension": ".py",
   "mimetype": "text/x-python",
   "name": "python",
   "nbconvert_exporter": "python",
   "pygments_lexer": "ipython3",
   "version": "3.9.13"
  }
 },
 "nbformat": 4,
 "nbformat_minor": 5
}
